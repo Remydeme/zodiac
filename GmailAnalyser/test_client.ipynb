{
 "cells": [
  {
   "cell_type": "code",
   "execution_count": 1,
   "metadata": {
    "collapsed": true,
    "pycharm": {
     "is_executing": false
    }
   },
   "outputs": [
    {
     "name": "stdout",
     "text": [
      "Spacy version 2.2.4\n",
      "Spacy version 2.2.4\n"
     ],
     "output_type": "stream"
    }
   ],
   "source": [
    "from GmailAnalyser.GmailClient import GMailClient\n",
    "\n",
    "client = GMailClient(path_to_credentials='credentials.json')\n"
   ]
  },
  {
   "cell_type": "code",
   "execution_count": 2,
   "outputs": [
    {
     "name": "stdout",
     "text": [
      "Done processing your forum mail that match the following query : newer_than:1d\n"
     ],
     "output_type": "stream"
    }
   ],
   "source": [
    "mails_df = client.MessageFromForums(query='newer_than:1d')"
   ],
   "metadata": {
    "collapsed": false,
    "pycharm": {
     "name": "#%%\n",
     "is_executing": false
    }
   }
  },
  {
   "cell_type": "code",
   "execution_count": 3,
   "outputs": [
    {
     "data": {
      "text/plain": "                                                 body     mailing-list  \\\n0   Merci beaucoup pour le lien, j=E2=80=99ai pas ...  people@octo.com   \n1   J adoore!! Je veux le m=C3=AAme =F0=9F=98=84\\r...  people@octo.com   \n2   J'adore, bravo !\\r\\n\\r\\nLe lun. 27 juil. 2020 ...  people@octo.com   \n3   Bonsoir =C3=A0 tous,\\r\\n\\r\\nMerci =C3=A0 tous ...  people@octo.com   \n4   Hello !\\r\\n\\r\\nLe RDV \"Solution Focus\" est le ...  people@octo.com   \n5   C'est incroyable !! =F0=9F=92=A5\\r\\n--\\r\\n\\r\\n...  people@octo.com   \n6   +2^2\\r\\n\\r\\nPour celles et ceux qui veulent s'...    tech@octo.com   \n7   J'adore, je le veux. Mon fils adore la musique...  people@octo.com   \n8   Bravo ! C'est top ce projet !\\r\\n\\r\\n* *\\r\\n*V...  people@octo.com   \n9   Un must :)\\r\\nSi je peux ajouter une cerise su...  people@octo.com   \n10  Tout simplement g=C3=A9nial, merci bcp ! <3\\r\\...  people@octo.com   \n11  Merci c'est tr=C3=A8s utile !\\r\\n\\r\\n\\r\\n\\r\\n*...  people@octo.com   \n12  +1 !! Merci beaucoup !\\r\\n\\r\\nBien cordialemen...  people@octo.com   \n13  Merci *beaucoup* pour cette feature qui peut p...  people@octo.com   \n14  Merci bcp :)\\r\\n\\r\\nOn Mon, 27 Jul 2020 at 15:...  people@octo.com   \n15  C'est g=C3=A9nial de voir son ann=C3=A9e sur u...  people@octo.com   \n16  Bienvenue Christine !!!\\r\\n\\r\\nj'aime aussi le...  people@octo.com   \n17  Hello tout le monde,\\r\\n\\r\\nLes EEOs approchen...  people@octo.com   \n18  excellent ! =F0=9F=91=8F\\r\\n\\r\\n\\r\\n*Pierre Cu...  people@octo.com   \n19  Merci pour la visibilit=C3=A9 =F0=9F=91=8C\\r\\n...  people@octo.com   \n\n                           origin  \\\n0     annabelle.blangero@octo.com   \n1         marion.leonard@octo.com   \n2              lina.yahi@octo.com   \n3          michael.ourch@octo.com   \n4       christelle.berge@octo.com   \n5            claude.bois@octo.com   \n6         mehdi.al.ouafi@octo.com   \n7   lan.levy-greilsammer@octo.com   \n8        vianney.daraquy@octo.com   \n9         adrien.estival@octo.com   \n10        yannick.schini@octo.com   \n11      ngoc.que-minh.vo@octo.com   \n12           alban.dalle@octo.com   \n13     augustin.grimprel@octo.com   \n14       nelson.da.costa@octo.com   \n15  lan.levy-greilsammer@octo.com   \n16  lan.levy-greilsammer@octo.com   \n17        pauline.donore@octo.com   \n18        pierre.culinas@octo.com   \n19      marjolaine.hamon@octo.com   \n\n                                                   To  \\\n0              Michael Ourch <michael.ourch@octo.com>   \n1                      Lina Yahi <lina.yahi@octo.com>   \n2                     Cyril Cincet <ccincet@octo.com>   \n3            Vincent Guigui <vincent.guigui@octo.com>   \n4                            people <people@octo.com>   \n5                Cyril Cincet <cyril.cincet@octo.com>   \n6   =?UTF-8?Q?Isma=C3=AFl_Lachheb?= <ismail.lachhe...   \n7          Vianney Daraquy <vianney.daraquy@octo.com>   \n8            Pierre Culinas <pierre.culinas@octo.com>   \n9            Yannick Schini <yannick.schini@octo.com>   \n10  =?UTF-8?Q?Ngoc_Qu=C3=AA=2DMinh_Vo?= <ngoc.que-...   \n11                           people <people@octo.com>   \n12     Augustin Grimprel <augustin.grimprel@octo.com>   \n13         Nelson Da Costa <nelson.da.costa@octo.com>   \n14  Thi Lan Huong Levy-Greilsammer <lan.levy-greil...   \n15                           people <people@octo.com>   \n16                 Lucie Quach <lucie.quach@octo.com>   \n17  people <people@octo.com>, corporate <corporate...   \n18               Cyril Cincet <cyril.cincet@octo.com>   \n19  =?UTF-8?B?Q8OpbGluZSBCb3XDqXJ5?= <celine.bouer...   \n\n                        Date  \\\n0  2020-07-27 19:42:22+02:00   \n1  2020-07-27 19:21:36+02:00   \n2  2020-07-27 18:15:34+02:00   \n3  2020-07-27 18:11:30+02:00   \n4  2020-07-27 18:10:11+02:00   \n5  2020-07-27 17:46:36+02:00   \n6  2020-07-27 16:42:38+02:00   \n7  2020-07-27 16:39:45+02:00   \n8  2020-07-27 16:22:26+02:00   \n9  2020-07-27 16:18:34+02:00   \n10 2020-07-27 15:33:11+02:00   \n11 2020-07-27 15:22:21+02:00   \n12 2020-07-27 15:21:28+02:00   \n13 2020-07-27 15:19:18+02:00   \n14 2020-07-27 15:12:22+02:00   \n15 2020-07-27 15:11:10+02:00   \n16 2020-07-27 15:02:45+02:00   \n17 2020-07-27 14:53:17+02:00   \n18 2020-07-27 14:37:26+02:00   \n19 2020-07-27 14:07:35+02:00   \n\n                                          In-Reply-To        Delivered-To  \\\n0   <CAATq63ekMOL-iFmt=6pbVwLYhGSM-jEVfHYGU865Eaj2...  remy.deme@octo.com   \n1   <CAEHBEzBqioR9uQSDMnqEojJytf39bk4Bq20t7Q-PGtb=...  remy.deme@octo.com   \n2   <CANUYHejVbpmsY=CumLai+YxDP-DmS7HMAVx6wF30Fvb5...  remy.deme@octo.com   \n3   <CAC7nc_jitLrXA3UOWUNmydVuCew+j91BksOhVtyKrD0f...  remy.deme@octo.com   \n4   <CAKwP+nko9=UdEGNQBMZimt5kNQ08pC3NdofMud=MfLF3...  remy.deme@octo.com   \n5   <CANMTK=yPKUxb8dt3igiBcTSJ11uLJ=nnBjm3zdD0VYAg...  remy.deme@octo.com   \n6   <CAEP4Wu+z6ZpeDHnh-Vtjaw+54kjPWRv-XkscWrZD11HO...  remy.deme@octo.com   \n7   <CAELbymuBVW+PmWULsFDK64gN6gEi2AxuwKsWG-R9OSAe...  remy.deme@octo.com   \n8   <CAKj8xtcx-+Oiy_4fqyn0Nm+OSv-Zcuvy9w4EYnmNBRFb...  remy.deme@octo.com   \n9   <CAM3J-PEO0KXJ+UFXV6XPq86Y+0agFwy=i8dnZighno5n...  remy.deme@octo.com   \n10  <CAEw=JbTBdZbOSdR_FEJvv050EVLoes8gvvvCvxjxvP=Q...  remy.deme@octo.com   \n11  <CADoS-v5Mz-7khoLhehc-kfNw86-8LqukiMWBVpf__V=1...  remy.deme@octo.com   \n12  <CAK751P5VdzAbfKNQiz1o9-KtuOKGBSCArf1BHz35nM-0...  remy.deme@octo.com   \n13  <CA+EEtVtKDLY9zqYyUXQF+wg24B6Cad4VUY2M5sTOFrY3...  remy.deme@octo.com   \n14  <CANMTK=w_t7xR=gRo7uaUuOJqUvX2XFsU0K0nJD4nJM3G...  remy.deme@octo.com   \n15  <CADoS-v5Mz-7khoLhehc-kfNw86-8LqukiMWBVpf__V=1...  remy.deme@octo.com   \n16  <CACFHT7H27Cw8C4coL21fKB_eDrFJDoyFJSWC8DaN=Hu-...  remy.deme@octo.com   \n17                                                NaN  remy.deme@octo.com   \n18  <CA+XjBEHbceUG62tA+qSJ9V7gUiOV5EyGJ0CZuuns-GfU...  remy.deme@octo.com   \n19  <CADODr4+oXQCQVPR2X7Gj1zJVHL1HKpOK98TpTWx-gd0m...  remy.deme@octo.com   \n\n                                                   Cc  \\\n0   Mathieu Singer <mathieu.singer@octo.com>, Maxe...   \n1   Cyril Cincet <ccincet@octo.com>, people <peopl...   \n2                            people <people@octo.com>   \n3   Maxence Modelin <maxence.modelin@octo.com>, Ma...   \n4              communication <communication@octo.com>   \n5                            people <people@octo.com>   \n6   =?UTF-8?Q?Aur=C3=A9lien_Massiot?= <aurelien.ma...   \n7   Pierre Culinas <pierre.culinas@octo.com>, Cyri...   \n8   Cyril Cincet <cyril.cincet@octo.com>, people <...   \n9   =?UTF-8?Q?Ngoc_Qu=C3=AA=2DMinh_Vo?= <ngoc.que-...   \n10  people <people@octo.com>, Nidhal Mohamed Safta...   \n11  Nidhal Mohamed Safta <mosa@octo.com>, Alban Da...   \n12  Nelson Da Costa <nelson.da.costa@octo.com>, \\r...   \n13  Thi Lan Huong Levy-Greilsammer <lan.levy-greil...   \n14  people <people@octo.com>, corporate <corporate...   \n15  corporate <corporate@octo.com>, Nidhal Mohamed...   \n16  Marina Wiesel <marina.wiesel@octo.com>, Caroli...   \n17  Nidhal Mohamed Safta <mosa@octo.com>, Alban Da...   \n18                           people <people@octo.com>   \n19  ALL-HAPI <all-hapi@octo.com>, Innov <innov@oct...   \n\n                                              Subject          threadId  \\\n0   =?UTF-8?Q?Re=3A_=5Bpeople=5D_=5BBBL=5D_Pr=C3=A...  1736ce019d84b995   \n1   =?UTF-8?Q?Re=3A_=5Bpeople=5D_=5BAFH_Projet_Per...  17389ff557f35f1b   \n2   =?UTF-8?Q?Re=3A_=5Bpeople=5D_=5BAFH_Projet_Per...  17389ff557f35f1b   \n3   =?UTF-8?Q?Re=3A_=5Bpeople=5D_=5BBBL=5D_Pr=C3=A...  1736ce019d84b995   \n4   =?UTF-8?B?W3Blb3BsZV0gUmU6IFtGTEFTSCBJTkZPXSBM...  1738fdceefcb2858   \n5   =?UTF-8?Q?Re=3A_=5Bpeople=5D_=5BAFH_Projet_Per...  17389ff557f35f1b   \n6   =?UTF-8?Q?Re=3A_=5Btech=5D_je_contribue_=C3=A0...  17380234156d9741   \n7   =?UTF-8?Q?Re=3A_=5Bpeople=5D_=5BAFH_Projet_Per...  17389ff557f35f1b   \n8   =?UTF-8?Q?Re=3A_=5Bpeople=5D_=5BAFH_Projet_Per...  17389ff557f35f1b   \n9   =?UTF-8?Q?Re=3A_=5Bpeople=5D_Re=3A_=5Bcorporat...  1739055eac8220b2   \n10  =?UTF-8?Q?Re=3A_=5Bpeople=5D_Re=3A_=5Bcorporat...  1739055eac8220b2   \n11  =?UTF-8?Q?=5Bpeople=5D_Re=3A_=5Bcorporate=5D_=...  1739055eac8220b2   \n12  =?UTF-8?Q?=5Bpeople=5D_Re=3A_=5Bcorporate=5D_=...  1739055eac8220b2   \n13  =?UTF-8?Q?=5Bpeople=5D_Re=3A_=5Bcorporate=5D_=...  1739055eac8220b2   \n14  =?UTF-8?Q?=5Bpeople=5D_Re=3A_=5Bcorporate=5D_=...  1739055eac8220b2   \n15  =?UTF-8?Q?=5Bpeople=5D_Re=3A_=5Bcorporate=5D_=...  1739055eac8220b2   \n16  =?UTF-8?Q?Re=3A_=5Bpeople=5D_Arriv=C3=A9e_de_C...  1737196306d45ab8   \n17  =?UTF-8?Q?=5Bpeople=5D_=5BOCTOPOD=5D_Faites_le...  1739055eac8220b2   \n18  =?UTF-8?Q?Re=3A_=5Bpeople=5D_=5BAFH_Projet_Per...  17389ff557f35f1b   \n19  [people] Re: Newsletter GUILDE - juin/juillet ...  173817134474d2a2   \n\n    is_initial_mail  \n0             False  \n1             False  \n2             False  \n3             False  \n4             False  \n5             False  \n6             False  \n7             False  \n8             False  \n9             False  \n10            False  \n11            False  \n12            False  \n13            False  \n14            False  \n15            False  \n16            False  \n17            False  \n18            False  \n19            False  ",
      "text/html": "<div>\n<style scoped>\n    .dataframe tbody tr th:only-of-type {\n        vertical-align: middle;\n    }\n\n    .dataframe tbody tr th {\n        vertical-align: top;\n    }\n\n    .dataframe thead th {\n        text-align: right;\n    }\n</style>\n<table border=\"1\" class=\"dataframe\">\n  <thead>\n    <tr style=\"text-align: right;\">\n      <th></th>\n      <th>body</th>\n      <th>mailing-list</th>\n      <th>origin</th>\n      <th>To</th>\n      <th>Date</th>\n      <th>In-Reply-To</th>\n      <th>Delivered-To</th>\n      <th>Cc</th>\n      <th>Subject</th>\n      <th>threadId</th>\n      <th>is_initial_mail</th>\n    </tr>\n  </thead>\n  <tbody>\n    <tr>\n      <th>0</th>\n      <td>Merci beaucoup pour le lien, j=E2=80=99ai pas ...</td>\n      <td>people@octo.com</td>\n      <td>annabelle.blangero@octo.com</td>\n      <td>Michael Ourch &lt;michael.ourch@octo.com&gt;</td>\n      <td>2020-07-27 19:42:22+02:00</td>\n      <td>&lt;CAATq63ekMOL-iFmt=6pbVwLYhGSM-jEVfHYGU865Eaj2...</td>\n      <td>remy.deme@octo.com</td>\n      <td>Mathieu Singer &lt;mathieu.singer@octo.com&gt;, Maxe...</td>\n      <td>=?UTF-8?Q?Re=3A_=5Bpeople=5D_=5BBBL=5D_Pr=C3=A...</td>\n      <td>1736ce019d84b995</td>\n      <td>False</td>\n    </tr>\n    <tr>\n      <th>1</th>\n      <td>J adoore!! Je veux le m=C3=AAme =F0=9F=98=84\\r...</td>\n      <td>people@octo.com</td>\n      <td>marion.leonard@octo.com</td>\n      <td>Lina Yahi &lt;lina.yahi@octo.com&gt;</td>\n      <td>2020-07-27 19:21:36+02:00</td>\n      <td>&lt;CAEHBEzBqioR9uQSDMnqEojJytf39bk4Bq20t7Q-PGtb=...</td>\n      <td>remy.deme@octo.com</td>\n      <td>Cyril Cincet &lt;ccincet@octo.com&gt;, people &lt;peopl...</td>\n      <td>=?UTF-8?Q?Re=3A_=5Bpeople=5D_=5BAFH_Projet_Per...</td>\n      <td>17389ff557f35f1b</td>\n      <td>False</td>\n    </tr>\n    <tr>\n      <th>2</th>\n      <td>J'adore, bravo !\\r\\n\\r\\nLe lun. 27 juil. 2020 ...</td>\n      <td>people@octo.com</td>\n      <td>lina.yahi@octo.com</td>\n      <td>Cyril Cincet &lt;ccincet@octo.com&gt;</td>\n      <td>2020-07-27 18:15:34+02:00</td>\n      <td>&lt;CANUYHejVbpmsY=CumLai+YxDP-DmS7HMAVx6wF30Fvb5...</td>\n      <td>remy.deme@octo.com</td>\n      <td>people &lt;people@octo.com&gt;</td>\n      <td>=?UTF-8?Q?Re=3A_=5Bpeople=5D_=5BAFH_Projet_Per...</td>\n      <td>17389ff557f35f1b</td>\n      <td>False</td>\n    </tr>\n    <tr>\n      <th>3</th>\n      <td>Bonsoir =C3=A0 tous,\\r\\n\\r\\nMerci =C3=A0 tous ...</td>\n      <td>people@octo.com</td>\n      <td>michael.ourch@octo.com</td>\n      <td>Vincent Guigui &lt;vincent.guigui@octo.com&gt;</td>\n      <td>2020-07-27 18:11:30+02:00</td>\n      <td>&lt;CAC7nc_jitLrXA3UOWUNmydVuCew+j91BksOhVtyKrD0f...</td>\n      <td>remy.deme@octo.com</td>\n      <td>Maxence Modelin &lt;maxence.modelin@octo.com&gt;, Ma...</td>\n      <td>=?UTF-8?Q?Re=3A_=5Bpeople=5D_=5BBBL=5D_Pr=C3=A...</td>\n      <td>1736ce019d84b995</td>\n      <td>False</td>\n    </tr>\n    <tr>\n      <th>4</th>\n      <td>Hello !\\r\\n\\r\\nLe RDV \"Solution Focus\" est le ...</td>\n      <td>people@octo.com</td>\n      <td>christelle.berge@octo.com</td>\n      <td>people &lt;people@octo.com&gt;</td>\n      <td>2020-07-27 18:10:11+02:00</td>\n      <td>&lt;CAKwP+nko9=UdEGNQBMZimt5kNQ08pC3NdofMud=MfLF3...</td>\n      <td>remy.deme@octo.com</td>\n      <td>communication &lt;communication@octo.com&gt;</td>\n      <td>=?UTF-8?B?W3Blb3BsZV0gUmU6IFtGTEFTSCBJTkZPXSBM...</td>\n      <td>1738fdceefcb2858</td>\n      <td>False</td>\n    </tr>\n    <tr>\n      <th>5</th>\n      <td>C'est incroyable !! =F0=9F=92=A5\\r\\n--\\r\\n\\r\\n...</td>\n      <td>people@octo.com</td>\n      <td>claude.bois@octo.com</td>\n      <td>Cyril Cincet &lt;cyril.cincet@octo.com&gt;</td>\n      <td>2020-07-27 17:46:36+02:00</td>\n      <td>&lt;CANMTK=yPKUxb8dt3igiBcTSJ11uLJ=nnBjm3zdD0VYAg...</td>\n      <td>remy.deme@octo.com</td>\n      <td>people &lt;people@octo.com&gt;</td>\n      <td>=?UTF-8?Q?Re=3A_=5Bpeople=5D_=5BAFH_Projet_Per...</td>\n      <td>17389ff557f35f1b</td>\n      <td>False</td>\n    </tr>\n    <tr>\n      <th>6</th>\n      <td>+2^2\\r\\n\\r\\nPour celles et ceux qui veulent s'...</td>\n      <td>tech@octo.com</td>\n      <td>mehdi.al.ouafi@octo.com</td>\n      <td>=?UTF-8?Q?Isma=C3=AFl_Lachheb?= &lt;ismail.lachhe...</td>\n      <td>2020-07-27 16:42:38+02:00</td>\n      <td>&lt;CAEP4Wu+z6ZpeDHnh-Vtjaw+54kjPWRv-XkscWrZD11HO...</td>\n      <td>remy.deme@octo.com</td>\n      <td>=?UTF-8?Q?Aur=C3=A9lien_Massiot?= &lt;aurelien.ma...</td>\n      <td>=?UTF-8?Q?Re=3A_=5Btech=5D_je_contribue_=C3=A0...</td>\n      <td>17380234156d9741</td>\n      <td>False</td>\n    </tr>\n    <tr>\n      <th>7</th>\n      <td>J'adore, je le veux. Mon fils adore la musique...</td>\n      <td>people@octo.com</td>\n      <td>lan.levy-greilsammer@octo.com</td>\n      <td>Vianney Daraquy &lt;vianney.daraquy@octo.com&gt;</td>\n      <td>2020-07-27 16:39:45+02:00</td>\n      <td>&lt;CAELbymuBVW+PmWULsFDK64gN6gEi2AxuwKsWG-R9OSAe...</td>\n      <td>remy.deme@octo.com</td>\n      <td>Pierre Culinas &lt;pierre.culinas@octo.com&gt;, Cyri...</td>\n      <td>=?UTF-8?Q?Re=3A_=5Bpeople=5D_=5BAFH_Projet_Per...</td>\n      <td>17389ff557f35f1b</td>\n      <td>False</td>\n    </tr>\n    <tr>\n      <th>8</th>\n      <td>Bravo ! C'est top ce projet !\\r\\n\\r\\n* *\\r\\n*V...</td>\n      <td>people@octo.com</td>\n      <td>vianney.daraquy@octo.com</td>\n      <td>Pierre Culinas &lt;pierre.culinas@octo.com&gt;</td>\n      <td>2020-07-27 16:22:26+02:00</td>\n      <td>&lt;CAKj8xtcx-+Oiy_4fqyn0Nm+OSv-Zcuvy9w4EYnmNBRFb...</td>\n      <td>remy.deme@octo.com</td>\n      <td>Cyril Cincet &lt;cyril.cincet@octo.com&gt;, people &lt;...</td>\n      <td>=?UTF-8?Q?Re=3A_=5Bpeople=5D_=5BAFH_Projet_Per...</td>\n      <td>17389ff557f35f1b</td>\n      <td>False</td>\n    </tr>\n    <tr>\n      <th>9</th>\n      <td>Un must :)\\r\\nSi je peux ajouter une cerise su...</td>\n      <td>people@octo.com</td>\n      <td>adrien.estival@octo.com</td>\n      <td>Yannick Schini &lt;yannick.schini@octo.com&gt;</td>\n      <td>2020-07-27 16:18:34+02:00</td>\n      <td>&lt;CAM3J-PEO0KXJ+UFXV6XPq86Y+0agFwy=i8dnZighno5n...</td>\n      <td>remy.deme@octo.com</td>\n      <td>=?UTF-8?Q?Ngoc_Qu=C3=AA=2DMinh_Vo?= &lt;ngoc.que-...</td>\n      <td>=?UTF-8?Q?Re=3A_=5Bpeople=5D_Re=3A_=5Bcorporat...</td>\n      <td>1739055eac8220b2</td>\n      <td>False</td>\n    </tr>\n    <tr>\n      <th>10</th>\n      <td>Tout simplement g=C3=A9nial, merci bcp ! &lt;3\\r\\...</td>\n      <td>people@octo.com</td>\n      <td>yannick.schini@octo.com</td>\n      <td>=?UTF-8?Q?Ngoc_Qu=C3=AA=2DMinh_Vo?= &lt;ngoc.que-...</td>\n      <td>2020-07-27 15:33:11+02:00</td>\n      <td>&lt;CAEw=JbTBdZbOSdR_FEJvv050EVLoes8gvvvCvxjxvP=Q...</td>\n      <td>remy.deme@octo.com</td>\n      <td>people &lt;people@octo.com&gt;, Nidhal Mohamed Safta...</td>\n      <td>=?UTF-8?Q?Re=3A_=5Bpeople=5D_Re=3A_=5Bcorporat...</td>\n      <td>1739055eac8220b2</td>\n      <td>False</td>\n    </tr>\n    <tr>\n      <th>11</th>\n      <td>Merci c'est tr=C3=A8s utile !\\r\\n\\r\\n\\r\\n\\r\\n*...</td>\n      <td>people@octo.com</td>\n      <td>ngoc.que-minh.vo@octo.com</td>\n      <td>people &lt;people@octo.com&gt;</td>\n      <td>2020-07-27 15:22:21+02:00</td>\n      <td>&lt;CADoS-v5Mz-7khoLhehc-kfNw86-8LqukiMWBVpf__V=1...</td>\n      <td>remy.deme@octo.com</td>\n      <td>Nidhal Mohamed Safta &lt;mosa@octo.com&gt;, Alban Da...</td>\n      <td>=?UTF-8?Q?=5Bpeople=5D_Re=3A_=5Bcorporate=5D_=...</td>\n      <td>1739055eac8220b2</td>\n      <td>False</td>\n    </tr>\n    <tr>\n      <th>12</th>\n      <td>+1 !! Merci beaucoup !\\r\\n\\r\\nBien cordialemen...</td>\n      <td>people@octo.com</td>\n      <td>alban.dalle@octo.com</td>\n      <td>Augustin Grimprel &lt;augustin.grimprel@octo.com&gt;</td>\n      <td>2020-07-27 15:21:28+02:00</td>\n      <td>&lt;CAK751P5VdzAbfKNQiz1o9-KtuOKGBSCArf1BHz35nM-0...</td>\n      <td>remy.deme@octo.com</td>\n      <td>Nelson Da Costa &lt;nelson.da.costa@octo.com&gt;, \\r...</td>\n      <td>=?UTF-8?Q?=5Bpeople=5D_Re=3A_=5Bcorporate=5D_=...</td>\n      <td>1739055eac8220b2</td>\n      <td>False</td>\n    </tr>\n    <tr>\n      <th>13</th>\n      <td>Merci *beaucoup* pour cette feature qui peut p...</td>\n      <td>people@octo.com</td>\n      <td>augustin.grimprel@octo.com</td>\n      <td>Nelson Da Costa &lt;nelson.da.costa@octo.com&gt;</td>\n      <td>2020-07-27 15:19:18+02:00</td>\n      <td>&lt;CA+EEtVtKDLY9zqYyUXQF+wg24B6Cad4VUY2M5sTOFrY3...</td>\n      <td>remy.deme@octo.com</td>\n      <td>Thi Lan Huong Levy-Greilsammer &lt;lan.levy-greil...</td>\n      <td>=?UTF-8?Q?=5Bpeople=5D_Re=3A_=5Bcorporate=5D_=...</td>\n      <td>1739055eac8220b2</td>\n      <td>False</td>\n    </tr>\n    <tr>\n      <th>14</th>\n      <td>Merci bcp :)\\r\\n\\r\\nOn Mon, 27 Jul 2020 at 15:...</td>\n      <td>people@octo.com</td>\n      <td>nelson.da.costa@octo.com</td>\n      <td>Thi Lan Huong Levy-Greilsammer &lt;lan.levy-greil...</td>\n      <td>2020-07-27 15:12:22+02:00</td>\n      <td>&lt;CANMTK=w_t7xR=gRo7uaUuOJqUvX2XFsU0K0nJD4nJM3G...</td>\n      <td>remy.deme@octo.com</td>\n      <td>people &lt;people@octo.com&gt;, corporate &lt;corporate...</td>\n      <td>=?UTF-8?Q?=5Bpeople=5D_Re=3A_=5Bcorporate=5D_=...</td>\n      <td>1739055eac8220b2</td>\n      <td>False</td>\n    </tr>\n    <tr>\n      <th>15</th>\n      <td>C'est g=C3=A9nial de voir son ann=C3=A9e sur u...</td>\n      <td>people@octo.com</td>\n      <td>lan.levy-greilsammer@octo.com</td>\n      <td>people &lt;people@octo.com&gt;</td>\n      <td>2020-07-27 15:11:10+02:00</td>\n      <td>&lt;CADoS-v5Mz-7khoLhehc-kfNw86-8LqukiMWBVpf__V=1...</td>\n      <td>remy.deme@octo.com</td>\n      <td>corporate &lt;corporate@octo.com&gt;, Nidhal Mohamed...</td>\n      <td>=?UTF-8?Q?=5Bpeople=5D_Re=3A_=5Bcorporate=5D_=...</td>\n      <td>1739055eac8220b2</td>\n      <td>False</td>\n    </tr>\n    <tr>\n      <th>16</th>\n      <td>Bienvenue Christine !!!\\r\\n\\r\\nj'aime aussi le...</td>\n      <td>people@octo.com</td>\n      <td>lan.levy-greilsammer@octo.com</td>\n      <td>Lucie Quach &lt;lucie.quach@octo.com&gt;</td>\n      <td>2020-07-27 15:02:45+02:00</td>\n      <td>&lt;CACFHT7H27Cw8C4coL21fKB_eDrFJDoyFJSWC8DaN=Hu-...</td>\n      <td>remy.deme@octo.com</td>\n      <td>Marina Wiesel &lt;marina.wiesel@octo.com&gt;, Caroli...</td>\n      <td>=?UTF-8?Q?Re=3A_=5Bpeople=5D_Arriv=C3=A9e_de_C...</td>\n      <td>1737196306d45ab8</td>\n      <td>False</td>\n    </tr>\n    <tr>\n      <th>17</th>\n      <td>Hello tout le monde,\\r\\n\\r\\nLes EEOs approchen...</td>\n      <td>people@octo.com</td>\n      <td>pauline.donore@octo.com</td>\n      <td>people &lt;people@octo.com&gt;, corporate &lt;corporate...</td>\n      <td>2020-07-27 14:53:17+02:00</td>\n      <td>NaN</td>\n      <td>remy.deme@octo.com</td>\n      <td>Nidhal Mohamed Safta &lt;mosa@octo.com&gt;, Alban Da...</td>\n      <td>=?UTF-8?Q?=5Bpeople=5D_=5BOCTOPOD=5D_Faites_le...</td>\n      <td>1739055eac8220b2</td>\n      <td>False</td>\n    </tr>\n    <tr>\n      <th>18</th>\n      <td>excellent ! =F0=9F=91=8F\\r\\n\\r\\n\\r\\n*Pierre Cu...</td>\n      <td>people@octo.com</td>\n      <td>pierre.culinas@octo.com</td>\n      <td>Cyril Cincet &lt;cyril.cincet@octo.com&gt;</td>\n      <td>2020-07-27 14:37:26+02:00</td>\n      <td>&lt;CA+XjBEHbceUG62tA+qSJ9V7gUiOV5EyGJ0CZuuns-GfU...</td>\n      <td>remy.deme@octo.com</td>\n      <td>people &lt;people@octo.com&gt;</td>\n      <td>=?UTF-8?Q?Re=3A_=5Bpeople=5D_=5BAFH_Projet_Per...</td>\n      <td>17389ff557f35f1b</td>\n      <td>False</td>\n    </tr>\n    <tr>\n      <th>19</th>\n      <td>Merci pour la visibilit=C3=A9 =F0=9F=91=8C\\r\\n...</td>\n      <td>people@octo.com</td>\n      <td>marjolaine.hamon@octo.com</td>\n      <td>=?UTF-8?B?Q8OpbGluZSBCb3XDqXJ5?= &lt;celine.bouer...</td>\n      <td>2020-07-27 14:07:35+02:00</td>\n      <td>&lt;CADODr4+oXQCQVPR2X7Gj1zJVHL1HKpOK98TpTWx-gd0m...</td>\n      <td>remy.deme@octo.com</td>\n      <td>ALL-HAPI &lt;all-hapi@octo.com&gt;, Innov &lt;innov@oct...</td>\n      <td>[people] Re: Newsletter GUILDE - juin/juillet ...</td>\n      <td>173817134474d2a2</td>\n      <td>False</td>\n    </tr>\n  </tbody>\n</table>\n</div>"
     },
     "metadata": {},
     "output_type": "execute_result",
     "execution_count": 3
    }
   ],
   "source": [
    "mails_df.head(20)"
   ],
   "metadata": {
    "collapsed": false,
    "pycharm": {
     "name": "#%%\n",
     "is_executing": false
    }
   }
  },
  {
   "cell_type": "code",
   "execution_count": 4,
   "outputs": [],
   "source": [
    "from GmailAnalyser.GmailClient import GMailAnalytics\n",
    "\n",
    "analyser = GMailAnalytics()\n",
    "\n",
    "analyser.fit(mails_df)\n",
    "\n",
    "results = analyser.transform(dataframe=mails_df)"
   ],
   "metadata": {
    "collapsed": false,
    "pycharm": {
     "name": "#%%\n",
     "is_executing": false
    }
   }
  },
  {
   "cell_type": "code",
   "execution_count": 9,
   "outputs": [
    {
     "data": {
      "text/plain": "                                                body     mailing-list  \\\n0  Merci beaucoup pour le lien, j E2 80 99ai pas ...  people@octo.com   \n1  J adoore!! Je veux le m C3 AAme  F0 9F 98 84 \\...  people@octo.com   \n2                             J'adore, bravo ! \\n \\n  people@octo.com   \n3  Bonsoir  C3 A0 tous, \\n \\nMerci  C3 A0 tous ce...  people@octo.com   \n4                                      Hello ! \\n \\n  people@octo.com   \n\n                        origin                                        To  \\\n0  annabelle.blangero@octo.com    Michael Ourch <michael.ourch@octo.com>   \n1      marion.leonard@octo.com            Lina Yahi <lina.yahi@octo.com>   \n2           lina.yahi@octo.com           Cyril Cincet <ccincet@octo.com>   \n3       michael.ourch@octo.com  Vincent Guigui <vincent.guigui@octo.com>   \n4    christelle.berge@octo.com                  people <people@octo.com>   \n\n                       Date  \\\n0 2020-07-27 19:42:22+02:00   \n1 2020-07-27 19:21:36+02:00   \n2 2020-07-27 18:15:34+02:00   \n3 2020-07-27 18:11:30+02:00   \n4 2020-07-27 18:10:11+02:00   \n\n                                         In-Reply-To        Delivered-To  \\\n0  <CAATq63ekMOL-iFmt=6pbVwLYhGSM-jEVfHYGU865Eaj2...  remy.deme@octo.com   \n1  <CAEHBEzBqioR9uQSDMnqEojJytf39bk4Bq20t7Q-PGtb=...  remy.deme@octo.com   \n2  <CANUYHejVbpmsY=CumLai+YxDP-DmS7HMAVx6wF30Fvb5...  remy.deme@octo.com   \n3  <CAC7nc_jitLrXA3UOWUNmydVuCew+j91BksOhVtyKrD0f...  remy.deme@octo.com   \n4  <CAKwP+nko9=UdEGNQBMZimt5kNQ08pC3NdofMud=MfLF3...  remy.deme@octo.com   \n\n                                                  Cc  \\\n0  Mathieu Singer <mathieu.singer@octo.com>, Maxe...   \n1  Cyril Cincet <ccincet@octo.com>, people <peopl...   \n2                           people <people@octo.com>   \n3  Maxence Modelin <maxence.modelin@octo.com>, Ma...   \n4             communication <communication@octo.com>   \n\n                                             Subject          threadId  \\\n0  =?UTF-8?Q?Re=3A_=5Bpeople=5D_=5BBBL=5D_Pr=C3=A...  1736ce019d84b995   \n1  =?UTF-8?Q?Re=3A_=5Bpeople=5D_=5BAFH_Projet_Per...  17389ff557f35f1b   \n2  =?UTF-8?Q?Re=3A_=5Bpeople=5D_=5BAFH_Projet_Per...  17389ff557f35f1b   \n3  =?UTF-8?Q?Re=3A_=5Bpeople=5D_=5BBBL=5D_Pr=C3=A...  1736ce019d84b995   \n4  =?UTF-8?B?W3Blb3BsZV0gUmU6IFtGTEFTSCBJTkZPXSBM...  1738fdceefcb2858   \n\n   is_initial_mail  importance_thread  response  \n0            False                2.0      True  \n1            False                9.0      True  \n2            False                9.0      True  \n3            False                2.0      True  \n4            False                2.0     False  ",
      "text/html": "<div>\n<style scoped>\n    .dataframe tbody tr th:only-of-type {\n        vertical-align: middle;\n    }\n\n    .dataframe tbody tr th {\n        vertical-align: top;\n    }\n\n    .dataframe thead th {\n        text-align: right;\n    }\n</style>\n<table border=\"1\" class=\"dataframe\">\n  <thead>\n    <tr style=\"text-align: right;\">\n      <th></th>\n      <th>body</th>\n      <th>mailing-list</th>\n      <th>origin</th>\n      <th>To</th>\n      <th>Date</th>\n      <th>In-Reply-To</th>\n      <th>Delivered-To</th>\n      <th>Cc</th>\n      <th>Subject</th>\n      <th>threadId</th>\n      <th>is_initial_mail</th>\n      <th>importance_thread</th>\n      <th>response</th>\n    </tr>\n  </thead>\n  <tbody>\n    <tr>\n      <th>0</th>\n      <td>Merci beaucoup pour le lien, j E2 80 99ai pas ...</td>\n      <td>people@octo.com</td>\n      <td>annabelle.blangero@octo.com</td>\n      <td>Michael Ourch &lt;michael.ourch@octo.com&gt;</td>\n      <td>2020-07-27 19:42:22+02:00</td>\n      <td>&lt;CAATq63ekMOL-iFmt=6pbVwLYhGSM-jEVfHYGU865Eaj2...</td>\n      <td>remy.deme@octo.com</td>\n      <td>Mathieu Singer &lt;mathieu.singer@octo.com&gt;, Maxe...</td>\n      <td>=?UTF-8?Q?Re=3A_=5Bpeople=5D_=5BBBL=5D_Pr=C3=A...</td>\n      <td>1736ce019d84b995</td>\n      <td>False</td>\n      <td>2.0</td>\n      <td>True</td>\n    </tr>\n    <tr>\n      <th>1</th>\n      <td>J adoore!! Je veux le m C3 AAme  F0 9F 98 84 \\...</td>\n      <td>people@octo.com</td>\n      <td>marion.leonard@octo.com</td>\n      <td>Lina Yahi &lt;lina.yahi@octo.com&gt;</td>\n      <td>2020-07-27 19:21:36+02:00</td>\n      <td>&lt;CAEHBEzBqioR9uQSDMnqEojJytf39bk4Bq20t7Q-PGtb=...</td>\n      <td>remy.deme@octo.com</td>\n      <td>Cyril Cincet &lt;ccincet@octo.com&gt;, people &lt;peopl...</td>\n      <td>=?UTF-8?Q?Re=3A_=5Bpeople=5D_=5BAFH_Projet_Per...</td>\n      <td>17389ff557f35f1b</td>\n      <td>False</td>\n      <td>9.0</td>\n      <td>True</td>\n    </tr>\n    <tr>\n      <th>2</th>\n      <td>J'adore, bravo ! \\n \\n</td>\n      <td>people@octo.com</td>\n      <td>lina.yahi@octo.com</td>\n      <td>Cyril Cincet &lt;ccincet@octo.com&gt;</td>\n      <td>2020-07-27 18:15:34+02:00</td>\n      <td>&lt;CANUYHejVbpmsY=CumLai+YxDP-DmS7HMAVx6wF30Fvb5...</td>\n      <td>remy.deme@octo.com</td>\n      <td>people &lt;people@octo.com&gt;</td>\n      <td>=?UTF-8?Q?Re=3A_=5Bpeople=5D_=5BAFH_Projet_Per...</td>\n      <td>17389ff557f35f1b</td>\n      <td>False</td>\n      <td>9.0</td>\n      <td>True</td>\n    </tr>\n    <tr>\n      <th>3</th>\n      <td>Bonsoir  C3 A0 tous, \\n \\nMerci  C3 A0 tous ce...</td>\n      <td>people@octo.com</td>\n      <td>michael.ourch@octo.com</td>\n      <td>Vincent Guigui &lt;vincent.guigui@octo.com&gt;</td>\n      <td>2020-07-27 18:11:30+02:00</td>\n      <td>&lt;CAC7nc_jitLrXA3UOWUNmydVuCew+j91BksOhVtyKrD0f...</td>\n      <td>remy.deme@octo.com</td>\n      <td>Maxence Modelin &lt;maxence.modelin@octo.com&gt;, Ma...</td>\n      <td>=?UTF-8?Q?Re=3A_=5Bpeople=5D_=5BBBL=5D_Pr=C3=A...</td>\n      <td>1736ce019d84b995</td>\n      <td>False</td>\n      <td>2.0</td>\n      <td>True</td>\n    </tr>\n    <tr>\n      <th>4</th>\n      <td>Hello ! \\n \\n</td>\n      <td>people@octo.com</td>\n      <td>christelle.berge@octo.com</td>\n      <td>people &lt;people@octo.com&gt;</td>\n      <td>2020-07-27 18:10:11+02:00</td>\n      <td>&lt;CAKwP+nko9=UdEGNQBMZimt5kNQ08pC3NdofMud=MfLF3...</td>\n      <td>remy.deme@octo.com</td>\n      <td>communication &lt;communication@octo.com&gt;</td>\n      <td>=?UTF-8?B?W3Blb3BsZV0gUmU6IFtGTEFTSCBJTkZPXSBM...</td>\n      <td>1738fdceefcb2858</td>\n      <td>False</td>\n      <td>2.0</td>\n      <td>False</td>\n    </tr>\n  </tbody>\n</table>\n</div>"
     },
     "metadata": {},
     "output_type": "execute_result",
     "execution_count": 9
    }
   ],
   "source": [
    "results.head()"
   ],
   "metadata": {
    "collapsed": false,
    "pycharm": {
     "name": "#%%\n",
     "is_executing": false
    }
   }
  },
  {
   "cell_type": "code",
   "execution_count": 5,
   "outputs": [
    {
     "name": "stdout",
     "text": [
      "Collecting micropython-quopri\r\n",
      "  Using cached https://files.pythonhosted.org/packages/06/1b/09443ea4a9b1b6a04405d8e2c9d700b4bfe204432f48764cb2aa57b09d40/micropython-quopri-0.5.1.tar.gz\r\n",
      "    Complete output from command python setup.py egg_info:\r\n",
      "    Traceback (most recent call last):\r\n",
      "      File \"<string>\", line 1, in <module>\r\n",
      "      File \"/Library/Developer/CommandLineTools/Library/Frameworks/Python3.framework/Versions/3.7/lib/python3.7/tokenize.py\", line 447, in open\r\n",
      "        buffer = _builtin_open(filename, 'rb')\r\n",
      "    FileNotFoundError: [Errno 2] No such file or directory: '/private/var/folders/vs/yt05c4ls55x83k6y7s829xgw0000gn/T/pip-install-t47esaqk/micropython-quopri/setup.py'\r\n",
      "    \r\n",
      "    ----------------------------------------\r\n",
      "\u001b[31mCommand \"python setup.py egg_info\" failed with error code 1 in /private/var/folders/vs/yt05c4ls55x83k6y7s829xgw0000gn/T/pip-install-t47esaqk/micropython-quopri/\u001b[0m\r\n"
     ],
     "output_type": "stream"
    }
   ],
   "source": [
    "!pip install micropython-quopri"
   ],
   "metadata": {
    "collapsed": false,
    "pycharm": {
     "name": "#%%\n",
     "is_executing": false
    }
   }
  },
  {
   "cell_type": "code",
   "execution_count": 6,
   "outputs": [
    {
     "data": {
      "text/plain": "'=?UTF-8?Q?Re=3A_=5Bpeople=5D_=5BBBL=5D_Pr=C3=A9sentation_du_nouvel_outil_int?=\\r\\n\\t=?UTF-8?Q?erne_MOJI?='"
     },
     "metadata": {},
     "output_type": "execute_result",
     "execution_count": 6
    }
   ],
   "source": [
    "from __future__ import unicode_literals\n",
    "mails_df.Subject[0].encode('utf-8').decode('iso-8859-1')"
   ],
   "metadata": {
    "collapsed": false,
    "pycharm": {
     "name": "#%%\n",
     "is_executing": false
    }
   }
  },
  {
   "cell_type": "markdown",
   "source": [
    "\n",
    "## Tech \n"
   ],
   "metadata": {
    "collapsed": false
   }
  },
  {
   "cell_type": "code",
   "execution_count": 7,
   "outputs": [
    {
     "name": "stdout",
     "text": [
      "Done processing your forum mail that match the following query : \n"
     ],
     "output_type": "stream"
    }
   ],
   "source": [
    "mails_tech = client.MessageFromForums(query='', maxResults=1)\n"
   ],
   "metadata": {
    "collapsed": false,
    "pycharm": {
     "name": "#%%\n",
     "is_executing": false
    }
   }
  },
  {
   "cell_type": "code",
   "execution_count": 8,
   "outputs": [
    {
     "data": {
      "text/plain": "                                                body     mailing-list  \\\n0  Merci beaucoup pour le lien, j=E2=80=99ai pas ...  people@octo.com   \n1  J adoore!! Je veux le m=C3=AAme =F0=9F=98=84\\r...  people@octo.com   \n2  J'adore, bravo !\\r\\n\\r\\nLe lun. 27 juil. 2020 ...  people@octo.com   \n3  Bonsoir =C3=A0 tous,\\r\\n\\r\\nMerci =C3=A0 tous ...  people@octo.com   \n4  Hello !\\r\\n\\r\\nLe RDV \"Solution Focus\" est le ...  people@octo.com   \n\n                        origin                                        To  \\\n0  annabelle.blangero@octo.com    Michael Ourch <michael.ourch@octo.com>   \n1      marion.leonard@octo.com            Lina Yahi <lina.yahi@octo.com>   \n2           lina.yahi@octo.com           Cyril Cincet <ccincet@octo.com>   \n3       michael.ourch@octo.com  Vincent Guigui <vincent.guigui@octo.com>   \n4    christelle.berge@octo.com                  people <people@octo.com>   \n\n                       Date  \\\n0 2020-07-27 19:42:22+02:00   \n1 2020-07-27 19:21:36+02:00   \n2 2020-07-27 18:15:34+02:00   \n3 2020-07-27 18:11:30+02:00   \n4 2020-07-27 18:10:11+02:00   \n\n                                         In-Reply-To        Delivered-To  \\\n0  <CAATq63ekMOL-iFmt=6pbVwLYhGSM-jEVfHYGU865Eaj2...  remy.deme@octo.com   \n1  <CAEHBEzBqioR9uQSDMnqEojJytf39bk4Bq20t7Q-PGtb=...  remy.deme@octo.com   \n2  <CANUYHejVbpmsY=CumLai+YxDP-DmS7HMAVx6wF30Fvb5...  remy.deme@octo.com   \n3  <CAC7nc_jitLrXA3UOWUNmydVuCew+j91BksOhVtyKrD0f...  remy.deme@octo.com   \n4  <CAKwP+nko9=UdEGNQBMZimt5kNQ08pC3NdofMud=MfLF3...  remy.deme@octo.com   \n\n                                                  Cc  \\\n0  Mathieu Singer <mathieu.singer@octo.com>, Maxe...   \n1  Cyril Cincet <ccincet@octo.com>, people <peopl...   \n2                           people <people@octo.com>   \n3  Maxence Modelin <maxence.modelin@octo.com>, Ma...   \n4             communication <communication@octo.com>   \n\n                                             Subject          threadId  \\\n0  =?UTF-8?Q?Re=3A_=5Bpeople=5D_=5BBBL=5D_Pr=C3=A...  1736ce019d84b995   \n1  =?UTF-8?Q?Re=3A_=5Bpeople=5D_=5BAFH_Projet_Per...  17389ff557f35f1b   \n2  =?UTF-8?Q?Re=3A_=5Bpeople=5D_=5BAFH_Projet_Per...  17389ff557f35f1b   \n3  =?UTF-8?Q?Re=3A_=5Bpeople=5D_=5BBBL=5D_Pr=C3=A...  1736ce019d84b995   \n4  =?UTF-8?B?W3Blb3BsZV0gUmU6IFtGTEFTSCBJTkZPXSBM...  1738fdceefcb2858   \n\n   is_initial_mail  \n0            False  \n1            False  \n2            False  \n3            False  \n4            False  ",
      "text/html": "<div>\n<style scoped>\n    .dataframe tbody tr th:only-of-type {\n        vertical-align: middle;\n    }\n\n    .dataframe tbody tr th {\n        vertical-align: top;\n    }\n\n    .dataframe thead th {\n        text-align: right;\n    }\n</style>\n<table border=\"1\" class=\"dataframe\">\n  <thead>\n    <tr style=\"text-align: right;\">\n      <th></th>\n      <th>body</th>\n      <th>mailing-list</th>\n      <th>origin</th>\n      <th>To</th>\n      <th>Date</th>\n      <th>In-Reply-To</th>\n      <th>Delivered-To</th>\n      <th>Cc</th>\n      <th>Subject</th>\n      <th>threadId</th>\n      <th>is_initial_mail</th>\n    </tr>\n  </thead>\n  <tbody>\n    <tr>\n      <th>0</th>\n      <td>Merci beaucoup pour le lien, j=E2=80=99ai pas ...</td>\n      <td>people@octo.com</td>\n      <td>annabelle.blangero@octo.com</td>\n      <td>Michael Ourch &lt;michael.ourch@octo.com&gt;</td>\n      <td>2020-07-27 19:42:22+02:00</td>\n      <td>&lt;CAATq63ekMOL-iFmt=6pbVwLYhGSM-jEVfHYGU865Eaj2...</td>\n      <td>remy.deme@octo.com</td>\n      <td>Mathieu Singer &lt;mathieu.singer@octo.com&gt;, Maxe...</td>\n      <td>=?UTF-8?Q?Re=3A_=5Bpeople=5D_=5BBBL=5D_Pr=C3=A...</td>\n      <td>1736ce019d84b995</td>\n      <td>False</td>\n    </tr>\n    <tr>\n      <th>1</th>\n      <td>J adoore!! Je veux le m=C3=AAme =F0=9F=98=84\\r...</td>\n      <td>people@octo.com</td>\n      <td>marion.leonard@octo.com</td>\n      <td>Lina Yahi &lt;lina.yahi@octo.com&gt;</td>\n      <td>2020-07-27 19:21:36+02:00</td>\n      <td>&lt;CAEHBEzBqioR9uQSDMnqEojJytf39bk4Bq20t7Q-PGtb=...</td>\n      <td>remy.deme@octo.com</td>\n      <td>Cyril Cincet &lt;ccincet@octo.com&gt;, people &lt;peopl...</td>\n      <td>=?UTF-8?Q?Re=3A_=5Bpeople=5D_=5BAFH_Projet_Per...</td>\n      <td>17389ff557f35f1b</td>\n      <td>False</td>\n    </tr>\n    <tr>\n      <th>2</th>\n      <td>J'adore, bravo !\\r\\n\\r\\nLe lun. 27 juil. 2020 ...</td>\n      <td>people@octo.com</td>\n      <td>lina.yahi@octo.com</td>\n      <td>Cyril Cincet &lt;ccincet@octo.com&gt;</td>\n      <td>2020-07-27 18:15:34+02:00</td>\n      <td>&lt;CANUYHejVbpmsY=CumLai+YxDP-DmS7HMAVx6wF30Fvb5...</td>\n      <td>remy.deme@octo.com</td>\n      <td>people &lt;people@octo.com&gt;</td>\n      <td>=?UTF-8?Q?Re=3A_=5Bpeople=5D_=5BAFH_Projet_Per...</td>\n      <td>17389ff557f35f1b</td>\n      <td>False</td>\n    </tr>\n    <tr>\n      <th>3</th>\n      <td>Bonsoir =C3=A0 tous,\\r\\n\\r\\nMerci =C3=A0 tous ...</td>\n      <td>people@octo.com</td>\n      <td>michael.ourch@octo.com</td>\n      <td>Vincent Guigui &lt;vincent.guigui@octo.com&gt;</td>\n      <td>2020-07-27 18:11:30+02:00</td>\n      <td>&lt;CAC7nc_jitLrXA3UOWUNmydVuCew+j91BksOhVtyKrD0f...</td>\n      <td>remy.deme@octo.com</td>\n      <td>Maxence Modelin &lt;maxence.modelin@octo.com&gt;, Ma...</td>\n      <td>=?UTF-8?Q?Re=3A_=5Bpeople=5D_=5BBBL=5D_Pr=C3=A...</td>\n      <td>1736ce019d84b995</td>\n      <td>False</td>\n    </tr>\n    <tr>\n      <th>4</th>\n      <td>Hello !\\r\\n\\r\\nLe RDV \"Solution Focus\" est le ...</td>\n      <td>people@octo.com</td>\n      <td>christelle.berge@octo.com</td>\n      <td>people &lt;people@octo.com&gt;</td>\n      <td>2020-07-27 18:10:11+02:00</td>\n      <td>&lt;CAKwP+nko9=UdEGNQBMZimt5kNQ08pC3NdofMud=MfLF3...</td>\n      <td>remy.deme@octo.com</td>\n      <td>communication &lt;communication@octo.com&gt;</td>\n      <td>=?UTF-8?B?W3Blb3BsZV0gUmU6IFtGTEFTSCBJTkZPXSBM...</td>\n      <td>1738fdceefcb2858</td>\n      <td>False</td>\n    </tr>\n  </tbody>\n</table>\n</div>"
     },
     "metadata": {},
     "output_type": "execute_result",
     "execution_count": 8
    }
   ],
   "source": [
    "mails_tech.head()\n"
   ],
   "metadata": {
    "collapsed": false,
    "pycharm": {
     "name": "#%%\n",
     "is_executing": false
    }
   }
  }
 ],
 "metadata": {
  "kernelspec": {
   "display_name": "Python 3",
   "language": "python",
   "name": "python3"
  },
  "language_info": {
   "codemirror_mode": {
    "name": "ipython",
    "version": 2
   },
   "file_extension": ".py",
   "mimetype": "text/x-python",
   "name": "python",
   "nbconvert_exporter": "python",
   "pygments_lexer": "ipython2",
   "version": "2.7.6"
  },
  "pycharm": {
   "stem_cell": {
    "cell_type": "raw",
    "source": [],
    "metadata": {
     "collapsed": false
    }
   }
  }
 },
 "nbformat": 4,
 "nbformat_minor": 0
}