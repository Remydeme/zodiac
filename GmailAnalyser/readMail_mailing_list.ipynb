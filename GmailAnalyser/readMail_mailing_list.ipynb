{
 "cells": [
  {
   "cell_type": "code",
   "execution_count": 15,
   "metadata": {
    "collapsed": true,
    "pycharm": {
     "is_executing": false,
     "name": "#%%\n"
    }
   },
   "outputs": [],
   "source": [
    "import pandas as pd \n",
    "from GmailAnalyser.GmailClient import GMailClient\n",
    "from sklearn.feature_extraction.text import CountVectorizer\n",
    "from sklearn.decomposition import LatentDirichletAllocation\n",
    "from sklearn.pipeline import Pipeline\n",
    "\n",
    "df = pd.read_csv('/Users/remy.deme/PycharmProjects/readMail/GmailAnalyser/people_forums_mail.csv', delimiter=',')"
   ]
  },
  {
   "cell_type": "code",
   "execution_count": null,
   "outputs": [],
   "source": [
    "import spacy\n",
    "import en_core_web_sm\n",
    "\n",
    "print(f'Spacy version {spacy.__version__}')\n",
    "nlp = en_core_web_sm.load()\n",
    "stop_words = spacy.lang.en.STOP_WORDS\n",
    "punctuations = spacy.lang.punctuation.LIST_PUNCT\n"
   ],
   "metadata": {
    "collapsed": false,
    "pycharm": {
     "name": "#%%\n"
    }
   }
  },
  {
   "cell_type": "code",
   "execution_count": null,
   "outputs": [],
   "source": [
    "noisy_words = ['pt', 'gq', 'ml', 'kn', 'si','pl','cx', 'sl', 'lj', 'mr', 'okz', 'nrhj', 'giz', 'pl', 'ax', 'qs', 'ww', 'mt', 'sy', 'sp', 'hz', 'ck', 'ck', 'uw', 'cx', 'jb', 'tt', 'pl', 'uw', 'cx', 'nhl', 'sl', 'pp']\n",
    "def prepareText(text, punctuation=True, lemming=True, stop_word=True):\n",
    "    \"\"\"\n",
    "    Prepare the text by removing punctuation, stop words and doing lemming \n",
    "    :param text: \n",
    "    :return: text \n",
    "    \"\"\"     \n",
    "    clean_text = nlp(text)\n",
    "    \n",
    "    #lowering word\n",
    "    #lemming \n",
    "    # if words is pronoun don't apply lemming because spacy convert the words \n",
    "    # in \"_PRON-\" \n",
    "    if lemming == True:\n",
    "        clean_text = [word.lemma_.lower().strip() if word.lemma_ != \"-PRON-\" else word.lower_ for word in clean_text]\n",
    "    \n",
    "    #remove stop words\n",
    "    if stop_word == True:\n",
    "        clean_text = [ word for word in clean_text if (word not in stop_words) ]\n",
    "    # remove punctuation \n",
    "    if punctuation == True:\n",
    "        clean_text = [word for word in clean_text if word.isalpha() ]\n",
    "    \n",
    "    #remove single char [b-Z] we only keep 'a'\n",
    "    clean_text = [ word for word in clean_text if (len(word) != 1 and word != 'a') ]\n",
    "\n",
    "    clean_text = [ word for word in clean_text if (word not in noisy_words)]\n",
    "\n",
    "\n",
    "    return clean_text"
   ],
   "metadata": {
    "collapsed": false,
    "pycharm": {
     "name": "#%%\n"
    }
   }
  },
  {
   "cell_type": "code",
   "execution_count": 14,
   "outputs": [
    {
     "data": {
      "text/plain": "0    b\"Le gain d=E2=80=99acquisition d=E2=80=99ESPP...\n1    b'Pff, je ne comprends rien =C3=A0 ces d=C3=A9...\n2    b'SuKAmWFpIGFwcHLDqWNpw6kgbGUgY2FkZWF1IMOpZ2Fs...\n3    b\"=F0=9F=99=8F=F0=9F=99=8C\\r\\n\\r\\nOn Thu, 11 J...\n4    b\"Super. Merci\\r\\n\\r\\nLe jeu. 11 juin 2020 =C3...\n5    b\"Hello, je trouve que vous  ne mettez pas du ...\nName: body, dtype: object"
     },
     "metadata": {},
     "output_type": "execute_result",
     "execution_count": 14
    }
   ],
   "source": [
    "vectorizer = CountVectorizer(tokenizer=prepareText)\n",
    "lda = LatentDirichletAllocation(n_components=20)\n",
    "pipeline = Pipeline([('vectorizer',vectorizer), ('lda',lda)])"
   ],
   "metadata": {
    "collapsed": false,
    "pycharm": {
     "name": "#%%\n",
     "is_executing": false
    }
   }
  },
  {
   "cell_type": "code",
   "execution_count": 3,
   "outputs": [],
   "source": [
    "df.body.fillna(' ', inplace=True)"
   ],
   "metadata": {
    "collapsed": false,
    "pycharm": {
     "name": "#%%\n",
     "is_executing": false
    }
   }
  },
  {
   "cell_type": "code",
   "execution_count": 8,
   "outputs": [],
   "source": [
    "def transformBody(message):\n",
    "    body = \"\"\n",
    "    splited = message.split('\\n')\n",
    "    for line in splited:\n",
    "        print(line)\n",
    "        if line[0] != '>':\n",
    "            body  += line + \"\\n\"\n",
    "    return body\n",
    "            \n",
    "            "
   ],
   "metadata": {
    "collapsed": false,
    "pycharm": {
     "name": "#%%\n",
     "is_executing": false
    }
   }
  },
  {
   "cell_type": "code",
   "execution_count": 17,
   "outputs": [
    {
     "name": "stdout",
     "text": [
      "<class 'pandas.core.frame.DataFrame'>\n",
      "RangeIndex: 200 entries, 0 to 199\n",
      "Data columns (total 10 columns):\n",
      " #   Column                   Non-Null Count  Dtype \n",
      "---  ------                   --------------  ----- \n",
      " 0   Unnamed: 0               200 non-null    int64 \n",
      " 1   body                     198 non-null    object\n",
      " 2   X-Spam-Checked-In-Group  197 non-null    object\n",
      " 3   X-Original-Sender        198 non-null    object\n",
      " 4   To                       196 non-null    object\n",
      " 5   Date                     198 non-null    object\n",
      " 6   From                     198 non-null    object\n",
      " 7   In-Reply-To              178 non-null    object\n",
      " 8   Delivered-To             198 non-null    object\n",
      " 9   Cc                       174 non-null    object\n",
      "dtypes: int64(1), object(9)\n",
      "memory usage: 15.8+ KB\n"
     ],
     "output_type": "stream"
    }
   ],
   "source": [
    "df.info()            \n",
    "        "
   ],
   "metadata": {
    "collapsed": false,
    "pycharm": {
     "name": "#%%\n",
     "is_executing": false
    }
   }
  },
  {
   "cell_type": "code",
   "execution_count": 9,
   "outputs": [
    {
     "name": "stdout",
     "text": [
      "Pff, je ne comprends rien =C3=A0 ces d=C3=A9clarations et il ne me reste qu=\r\n",
      "e 10 '\r\n",
      "\r\n",
      "De ce que je crois comprendre du guide en page 15, si j'ai souscrit au plan\r\n",
      "ESPP, et que je n'ai rien fait / vendu, c'est g=C3=A9r=C3=A9 automatiquemen=\r\n",
      "t, les\r\n",
      "\"revenus\" en nature sont pris en compte dans ma d=C3=A9claration -> donc je=\r\n",
      " n'ai\r\n",
      "rien =C3=A0 d=C3=A9clarer en plus\r\n",
      "c'est cela ?\r\n",
      "il me reste 5', argh, mais apr=C3=A8s j'aurais surement le droit =C3=A0 l'e=\r\n",
      "rreur\r\n",
      "<https://www.impots.gouv.fr/portail/particulier/je-corrige-mes-erreurs-0>;-=\r\n",
      ")\r\n",
      "\r\n",
      "Pr=C3=A9visualiser la pi=C3=A8ce jointe Accenture - IR 2019 - Guide pratiqu=\r\n",
      "e.pdf\r\n",
      "Accenture - IR 2019 - Guide pratique.pdf\r\n",
      "3.6 MB\r\n",
      "<https://mail.google.com/mail/u/0?ui=3D2&ik=3D26d2ee32eb&attid=3D0.1&permms=\r\n",
      "gid=3Dmsg-f:1668561881306363310&th=3D1727ec30cd05f5ae&view=3Datt&disp=3Dsaf=\r\n",
      "e&realattid=3Df_kazh2gar0>\r\n",
      "\r\n",
      "\r\n",
      "\r\n",
      "\r\n",
      "\r\n",
      "\r\n",
      "\r\n",
      "----\r\n",
      "\r\n",
      "*Dominique* *Lequepeys | *Coach Lean Startup\r\n",
      "\r\n",
      "+33 (0)6 28 82 36 49\r\n",
      "\r\n",
      "...........................................................................=\r\n",
      "...\r\n",
      "\r\n",
      "*OCTO Technology* - Part of Accenture Digital\r\n",
      "\r\n",
      "34, avenue de l\r\n",
      "<https://maps.google.com/?q=3D34,+avenue+de+l+Op%C3%A9ra+-+75002+Paris&entr=\r\n",
      "y=3Dgmail&source=3Dg>\r\n",
      "'Op=C3=A9ra - 75002 Paris\r\n",
      "<https://maps.google.com/?q=3D34,+avenue+de+l+Op%C3%A9ra+-+75002+Paris&entr=\r\n",
      "y=3Dgmail&source=3Dg>\r\n",
      " - octo.com <http://www.octo.com/> - blog.octo.com\r\n",
      "\r\n",
      "\r\n",
      "Le jeu. 4 juin 2020 =C3=A0 11:56, La=C3=ABtitia D=C3=A9al <ldeal@octo.com> =\r\n",
      "a =C3=A9crit :\r\n",
      "\r\n",
      "> Hello,\r\n",
      ">\r\n",
      "> Vous trouverez en pj quelques informations relatives aux ESPP qui peuvent\r\n",
      "> vous aider pour la d=C3=A9claration des revenus 2019.\r\n",
      ">\r\n",
      "> Le premier document est un guide pratique et interactif vous permettant d=\r\n",
      "e\r\n",
      "> couvrir rapidement le sujet qui vous int=C3=A9resse et d'acc=C3=A9der aux\r\n",
      "> instructions de remplissage de votre d=C3=A9claration des revenus.\r\n",
      "> Le deuxi=C3=A8me est une notice plus th=C3=A9orique couvrant les obligati=\r\n",
      "ons\r\n",
      "> fiscales li=C3=A9es aux revenus Accenture.\r\n",
      ">\r\n",
      "> D=C3=A9sol=C3=A9e pour la communication tardive et bonne journ=C3=A9e.\r\n",
      "> ---\r\n",
      ">\r\n",
      "> *La=C3=ABtitia DEAL I  *Directrice financi=C3=A8re CFO\r\n",
      "> +33 (0)1 70 99 15 64 l +33(0)6 32 62 35 30\r\n",
      ">\r\n",
      "> .........................................................................=\r\n",
      ".....\r\n",
      ">\r\n",
      "> *OCTO Technology* - Part of Accenture\r\n",
      ">\r\n",
      "> 34, avenue de l\r\n",
      "> <https://maps.google.com/?q=3D34,+avenue+de+l+Op%C3%A9ra+-+75002+Paris&en=\r\n",
      "try=3Dgmail&source=3Dg>\r\n",
      "> 'Op=C3=A9ra - 75002 Paris\r\n",
      "> <https://maps.google.com/?q=3D34,+avenue+de+l+Op%C3%A9ra+-+75002+Paris&en=\r\n",
      "try=3Dgmail&source=3Dg>\r\n",
      ">  - octo.com <http://www.octo.com/> - blog.octo.com\r\n",
      ">\r\n",
      "\n"
     ],
     "output_type": "stream"
    },
    {
     "traceback": [
      "\u001b[0;31m---------------------------------------------------------------------------\u001b[0m",
      "\u001b[0;31mIndexError\u001b[0m                                Traceback (most recent call last)",
      "\u001b[0;32m<ipython-input-9-66f047608ec1>\u001b[0m in \u001b[0;36m<module>\u001b[0;34m\u001b[0m\n\u001b[0;32m----> 1\u001b[0;31m \u001b[0mresult\u001b[0m \u001b[0;34m=\u001b[0m \u001b[0mdf\u001b[0m\u001b[0;34m.\u001b[0m\u001b[0mbody\u001b[0m\u001b[0;34m.\u001b[0m\u001b[0mapply\u001b[0m\u001b[0;34m(\u001b[0m\u001b[0mtransformBody\u001b[0m\u001b[0;34m)\u001b[0m\u001b[0;34m\u001b[0m\u001b[0;34m\u001b[0m\u001b[0m\n\u001b[0m\u001b[1;32m      2\u001b[0m \u001b[0;34m\u001b[0m\u001b[0m\n",
      "\u001b[0;32m~/PycharmProjects/NLP_TRAINING/venv/lib/python3.7/site-packages/pandas/core/series.py\u001b[0m in \u001b[0;36mapply\u001b[0;34m(self, func, convert_dtype, args, **kwds)\u001b[0m\n\u001b[1;32m   3846\u001b[0m             \u001b[0;32melse\u001b[0m\u001b[0;34m:\u001b[0m\u001b[0;34m\u001b[0m\u001b[0;34m\u001b[0m\u001b[0m\n\u001b[1;32m   3847\u001b[0m                 \u001b[0mvalues\u001b[0m \u001b[0;34m=\u001b[0m \u001b[0mself\u001b[0m\u001b[0;34m.\u001b[0m\u001b[0mastype\u001b[0m\u001b[0;34m(\u001b[0m\u001b[0mobject\u001b[0m\u001b[0;34m)\u001b[0m\u001b[0;34m.\u001b[0m\u001b[0mvalues\u001b[0m\u001b[0;34m\u001b[0m\u001b[0;34m\u001b[0m\u001b[0m\n\u001b[0;32m-> 3848\u001b[0;31m                 \u001b[0mmapped\u001b[0m \u001b[0;34m=\u001b[0m \u001b[0mlib\u001b[0m\u001b[0;34m.\u001b[0m\u001b[0mmap_infer\u001b[0m\u001b[0;34m(\u001b[0m\u001b[0mvalues\u001b[0m\u001b[0;34m,\u001b[0m \u001b[0mf\u001b[0m\u001b[0;34m,\u001b[0m \u001b[0mconvert\u001b[0m\u001b[0;34m=\u001b[0m\u001b[0mconvert_dtype\u001b[0m\u001b[0;34m)\u001b[0m\u001b[0;34m\u001b[0m\u001b[0;34m\u001b[0m\u001b[0m\n\u001b[0m\u001b[1;32m   3849\u001b[0m \u001b[0;34m\u001b[0m\u001b[0m\n\u001b[1;32m   3850\u001b[0m         \u001b[0;32mif\u001b[0m \u001b[0mlen\u001b[0m\u001b[0;34m(\u001b[0m\u001b[0mmapped\u001b[0m\u001b[0;34m)\u001b[0m \u001b[0;32mand\u001b[0m \u001b[0misinstance\u001b[0m\u001b[0;34m(\u001b[0m\u001b[0mmapped\u001b[0m\u001b[0;34m[\u001b[0m\u001b[0;36m0\u001b[0m\u001b[0;34m]\u001b[0m\u001b[0;34m,\u001b[0m \u001b[0mSeries\u001b[0m\u001b[0;34m)\u001b[0m\u001b[0;34m:\u001b[0m\u001b[0;34m\u001b[0m\u001b[0;34m\u001b[0m\u001b[0m\n",
      "\u001b[0;32mpandas/_libs/lib.pyx\u001b[0m in \u001b[0;36mpandas._libs.lib.map_infer\u001b[0;34m()\u001b[0m\n",
      "\u001b[0;32m<ipython-input-8-b86987edaad2>\u001b[0m in \u001b[0;36mtransformBody\u001b[0;34m(message)\u001b[0m\n\u001b[1;32m      4\u001b[0m     \u001b[0;32mfor\u001b[0m \u001b[0mline\u001b[0m \u001b[0;32min\u001b[0m \u001b[0msplited\u001b[0m\u001b[0;34m:\u001b[0m\u001b[0;34m\u001b[0m\u001b[0;34m\u001b[0m\u001b[0m\n\u001b[1;32m      5\u001b[0m         \u001b[0mprint\u001b[0m\u001b[0;34m(\u001b[0m\u001b[0mline\u001b[0m\u001b[0;34m)\u001b[0m\u001b[0;34m\u001b[0m\u001b[0;34m\u001b[0m\u001b[0m\n\u001b[0;32m----> 6\u001b[0;31m         \u001b[0;32mif\u001b[0m \u001b[0mline\u001b[0m\u001b[0;34m[\u001b[0m\u001b[0;36m0\u001b[0m\u001b[0;34m]\u001b[0m \u001b[0;34m!=\u001b[0m \u001b[0;34m'>'\u001b[0m\u001b[0;34m:\u001b[0m\u001b[0;34m\u001b[0m\u001b[0;34m\u001b[0m\u001b[0m\n\u001b[0m\u001b[1;32m      7\u001b[0m             \u001b[0mbody\u001b[0m  \u001b[0;34m+=\u001b[0m \u001b[0mline\u001b[0m \u001b[0;34m+\u001b[0m \u001b[0;34m\"\\n\"\u001b[0m\u001b[0;34m\u001b[0m\u001b[0;34m\u001b[0m\u001b[0m\n\u001b[1;32m      8\u001b[0m     \u001b[0;32mreturn\u001b[0m \u001b[0mbody\u001b[0m\u001b[0;34m\u001b[0m\u001b[0;34m\u001b[0m\u001b[0m\n",
      "\u001b[0;31mIndexError\u001b[0m: string index out of range"
     ],
     "ename": "IndexError",
     "evalue": "string index out of range",
     "output_type": "error"
    }
   ],
   "source": [
    "result = df.body.apply(transformBody)"
   ],
   "metadata": {
    "collapsed": false,
    "pycharm": {
     "name": "#%%\n",
     "is_executing": false
    }
   }
  },
  {
   "cell_type": "code",
   "execution_count": 36,
   "outputs": [
    {
     "data": {
      "text/plain": "   Unnamed: 0        body X-Spam-Checked-In-Group    X-Original-Sender  \\\n0           0      \\n\\n\\n         people@octo.com  dlequepeys@octo.com   \n1           1      \\n\\n\\n         people@octo.com      nsafta@octo.com   \n2           2      \\n\\n\\n         people@octo.com   ablangero@octo.com   \n3           3      \\n\\n\\n         people@octo.com     mvetter@octo.com   \n4           4      \\n\\n\\n         people@octo.com      flenci@octo.com   \n\n                                                  To  \\\n0                           people <people@octo.com>   \n1  Pierre Nicoli <pnicoli@octo.com>, Fabrice Gout...   \n2                 Matthieu Vetter <mvetter@octo.com>   \n3                                    people@octo.com   \n4              Alexandre Siguier <asiguier@octo.com>   \n\n                              Date                                       From  \\\n0  Thu, 11 Jun 2020 23:56:32 +0200  Dominique Lequepeys <dlequepeys@octo.com>   \n1  Thu, 11 Jun 2020 20:34:46 +0000     Nidhal Mohamed Safta <nsafta@octo.com>   \n2  Thu, 11 Jun 2020 21:06:09 +0200    Annabelle Blangero <ablangero@octo.com>   \n3  Thu, 11 Jun 2020 20:35:21 +0200         Matthieu Vetter <mvetter@octo.com>   \n4  Thu, 11 Jun 2020 20:31:27 +0200           Frederic Lenci <flenci@octo.com>   \n\n                                         In-Reply-To        Delivered-To  \\\n0  <CAL2k6PHpZNL-Vhkd48ej08LB4MWk0BTpYjSvrwkxPb7-...  remy.deme@octo.com   \n1  <CAC+_vnrj6O=vSn6CY5-V2vpb-=NXazbCaGpz2CPd+wT2...  remy.deme@octo.com   \n2  <CA+oaERYxZrsU2nksvB6BRPdxgsXaaoTcT7h4OP3PLo-S...  remy.deme@octo.com   \n3  <CAJWkGDccoSPAnHRi7nA3J-FX8ZFGzJPtwqBrw3Qo8xGx...  remy.deme@octo.com   \n4  <CAPCO-zmtetXCHyKtGu++B0A0Xq1M85g32-s+gM8nH8bT...  remy.deme@octo.com   \n\n                                                  Cc  \n0                                                NaN  \n1                                                NaN  \n2  BCorp <bcorp@octo.com>, \"corp.france\" <corp.fr...  \n3  BCorp <bcorp@octo.com>, \"corp.france\" <corp.fr...  \n4  Florent Jaby <fjaby@octo.com>, Christophe Thib...  ",
      "text/html": "<div>\n<style scoped>\n    .dataframe tbody tr th:only-of-type {\n        vertical-align: middle;\n    }\n\n    .dataframe tbody tr th {\n        vertical-align: top;\n    }\n\n    .dataframe thead th {\n        text-align: right;\n    }\n</style>\n<table border=\"1\" class=\"dataframe\">\n  <thead>\n    <tr style=\"text-align: right;\">\n      <th></th>\n      <th>Unnamed: 0</th>\n      <th>body</th>\n      <th>X-Spam-Checked-In-Group</th>\n      <th>X-Original-Sender</th>\n      <th>To</th>\n      <th>Date</th>\n      <th>From</th>\n      <th>In-Reply-To</th>\n      <th>Delivered-To</th>\n      <th>Cc</th>\n    </tr>\n  </thead>\n  <tbody>\n    <tr>\n      <th>0</th>\n      <td>0</td>\n      <td>\\n\\n\\n</td>\n      <td>people@octo.com</td>\n      <td>dlequepeys@octo.com</td>\n      <td>people &lt;people@octo.com&gt;</td>\n      <td>Thu, 11 Jun 2020 23:56:32 +0200</td>\n      <td>Dominique Lequepeys &lt;dlequepeys@octo.com&gt;</td>\n      <td>&lt;CAL2k6PHpZNL-Vhkd48ej08LB4MWk0BTpYjSvrwkxPb7-...</td>\n      <td>remy.deme@octo.com</td>\n      <td>NaN</td>\n    </tr>\n    <tr>\n      <th>1</th>\n      <td>1</td>\n      <td>\\n\\n\\n</td>\n      <td>people@octo.com</td>\n      <td>nsafta@octo.com</td>\n      <td>Pierre Nicoli &lt;pnicoli@octo.com&gt;, Fabrice Gout...</td>\n      <td>Thu, 11 Jun 2020 20:34:46 +0000</td>\n      <td>Nidhal Mohamed Safta &lt;nsafta@octo.com&gt;</td>\n      <td>&lt;CAC+_vnrj6O=vSn6CY5-V2vpb-=NXazbCaGpz2CPd+wT2...</td>\n      <td>remy.deme@octo.com</td>\n      <td>NaN</td>\n    </tr>\n    <tr>\n      <th>2</th>\n      <td>2</td>\n      <td>\\n\\n\\n</td>\n      <td>people@octo.com</td>\n      <td>ablangero@octo.com</td>\n      <td>Matthieu Vetter &lt;mvetter@octo.com&gt;</td>\n      <td>Thu, 11 Jun 2020 21:06:09 +0200</td>\n      <td>Annabelle Blangero &lt;ablangero@octo.com&gt;</td>\n      <td>&lt;CA+oaERYxZrsU2nksvB6BRPdxgsXaaoTcT7h4OP3PLo-S...</td>\n      <td>remy.deme@octo.com</td>\n      <td>BCorp &lt;bcorp@octo.com&gt;, \"corp.france\" &lt;corp.fr...</td>\n    </tr>\n    <tr>\n      <th>3</th>\n      <td>3</td>\n      <td>\\n\\n\\n</td>\n      <td>people@octo.com</td>\n      <td>mvetter@octo.com</td>\n      <td>people@octo.com</td>\n      <td>Thu, 11 Jun 2020 20:35:21 +0200</td>\n      <td>Matthieu Vetter &lt;mvetter@octo.com&gt;</td>\n      <td>&lt;CAJWkGDccoSPAnHRi7nA3J-FX8ZFGzJPtwqBrw3Qo8xGx...</td>\n      <td>remy.deme@octo.com</td>\n      <td>BCorp &lt;bcorp@octo.com&gt;, \"corp.france\" &lt;corp.fr...</td>\n    </tr>\n    <tr>\n      <th>4</th>\n      <td>4</td>\n      <td>\\n\\n\\n</td>\n      <td>people@octo.com</td>\n      <td>flenci@octo.com</td>\n      <td>Alexandre Siguier &lt;asiguier@octo.com&gt;</td>\n      <td>Thu, 11 Jun 2020 20:31:27 +0200</td>\n      <td>Frederic Lenci &lt;flenci@octo.com&gt;</td>\n      <td>&lt;CAPCO-zmtetXCHyKtGu++B0A0Xq1M85g32-s+gM8nH8bT...</td>\n      <td>remy.deme@octo.com</td>\n      <td>Florent Jaby &lt;fjaby@octo.com&gt;, Christophe Thib...</td>\n    </tr>\n  </tbody>\n</table>\n</div>"
     },
     "metadata": {},
     "output_type": "execute_result",
     "execution_count": 36
    }
   ],
   "source": [
    "df.head()"
   ],
   "metadata": {
    "collapsed": false,
    "pycharm": {
     "name": "#%%\n",
     "is_executing": false
    }
   }
  },
  {
   "cell_type": "markdown",
   "source": [
    "### Analyse the "
   ],
   "metadata": {
    "collapsed": false
   }
  },
  {
   "cell_type": "code",
   "execution_count": 133,
   "outputs": [],
   "source": [
    "threadId = df.threadId.unique()"
   ],
   "metadata": {
    "collapsed": false,
    "pycharm": {
     "name": "#%%\n",
     "is_executing": false
    }
   }
  },
  {
   "cell_type": "code",
   "execution_count": 141,
   "outputs": [],
   "source": [
    "threadId = df.threadId.unique()\n",
    "for id in threadId:\n",
    "    count = df[df['threadId'] == id ].size\n",
    "    df.loc[df['threadId'] == id,'importance_thread'] = count\n",
    "    \n",
    "    \n"
   ],
   "metadata": {
    "collapsed": false,
    "pycharm": {
     "name": "#%%\n",
     "is_executing": false
    }
   }
  },
  {
   "cell_type": "code",
   "execution_count": 143,
   "outputs": [
    {
     "data": {
      "text/plain": "    Unnamed: 0                id          threadId  \\\n0            0  17275bc3cce6497f  172659e4e9356de7   \n1            1  17275b282bd7e104  172659e4e9356de7   \n2            2  17275469b37bf18f  172750d9af65a610   \n3            3  17275421059326b5  172750d9af65a610   \n4            4  172753fcd88090be  172750d9af65a610   \n..         ...               ...               ...   \n95          95  1725bec1c28531e7  1725bec1c28531e7   \n96          96  1725bb666c1502a2  172511f6e19ce721   \n97          97  1725bb33cf323512  172511f6e19ce721   \n98          98  1725b8eaa895820e  172511f6e19ce721   \n99          99  1725b8369edba40e  1725a7fa34db9bcc   \n\n                                             labelIds  \\\n0   ['UNREAD', 'IMPORTANT', 'CATEGORY_FORUMS', 'IN...   \n1   ['UNREAD', 'IMPORTANT', 'CATEGORY_FORUMS', 'IN...   \n2              ['UNREAD', 'CATEGORY_FORUMS', 'INBOX']   \n3              ['UNREAD', 'CATEGORY_FORUMS', 'INBOX']   \n4              ['UNREAD', 'CATEGORY_FORUMS', 'INBOX']   \n..                                                ...   \n95             ['UNREAD', 'CATEGORY_FORUMS', 'INBOX']   \n96  ['UNREAD', 'IMPORTANT', 'CATEGORY_FORUMS', 'IN...   \n97  ['UNREAD', 'IMPORTANT', 'CATEGORY_FORUMS', 'IN...   \n98  ['UNREAD', 'IMPORTANT', 'CATEGORY_FORUMS', 'IN...   \n99  ['UNREAD', 'IMPORTANT', 'CATEGORY_FORUMS', 'IN...   \n\n                                              snippet  \\\n0   Félicitations Clara :) Quel petit chou et quel...   \n1   Félicitation, Bienvenue à Gaspard, il est tout...   \n2   Bonjour, @Marina Guerin : je pense que nous po...   \n3   d&#39;ailleurs tout ça me fait penser à une vi...   \n4   Merci pour les photos Cyril ! Cette année ça r...   \n..                                                ...   \n95  Hello les octos, A l&#39;occasion des 2 ans du...   \n96  Bisous bibiiii 😘 On Tue, May 26, 2020 at 3:15 ...   \n97  Marie, ça a été un réel plaisir de travailler ...   \n98  Merci pour tout Marie. Je te souhaite le meill...   \n99  Hello, Pour ajouter ma petite pierre à l&#39;é...   \n\n                                              payload  sizeEstimate  \\\n0   {'partId': '', 'mimeType': 'multipart/related'...       8309988   \n1   {'partId': '', 'mimeType': 'multipart/alternat...         62110   \n2   {'partId': '', 'mimeType': 'multipart/related'...         72555   \n3   {'partId': '', 'mimeType': 'multipart/related'...         69817   \n4   {'partId': '', 'mimeType': 'multipart/related'...         69589   \n..                                                ...           ...   \n95  {'partId': '', 'mimeType': 'multipart/alternat...         17972   \n96  {'partId': '', 'mimeType': 'multipart/alternat...         26158   \n97  {'partId': '', 'mimeType': 'multipart/related'...        158590   \n98  {'partId': '', 'mimeType': 'multipart/alternat...         64791   \n99  {'partId': '', 'mimeType': 'multipart/related'...        547283   \n\n    historyId   internalDate  importance_thread  \n0      215485  1591113147000              171.0  \n1      215403  1591112492000              171.0  \n2      215282  1591105443000              100.0  \n3      215282  1591105131000              100.0  \n4      215282  1591104999000              100.0  \n..        ...            ...                ...  \n95     204210  1590680085000               10.0  \n96     204110  1590676566000              330.0  \n97     204018  1590676331000              330.0  \n98     203774  1590673961000              330.0  \n99     203775  1590673225000              100.0  \n\n[100 rows x 10 columns]",
      "text/html": "<div>\n<style scoped>\n    .dataframe tbody tr th:only-of-type {\n        vertical-align: middle;\n    }\n\n    .dataframe tbody tr th {\n        vertical-align: top;\n    }\n\n    .dataframe thead th {\n        text-align: right;\n    }\n</style>\n<table border=\"1\" class=\"dataframe\">\n  <thead>\n    <tr style=\"text-align: right;\">\n      <th></th>\n      <th>Unnamed: 0</th>\n      <th>id</th>\n      <th>threadId</th>\n      <th>labelIds</th>\n      <th>snippet</th>\n      <th>payload</th>\n      <th>sizeEstimate</th>\n      <th>historyId</th>\n      <th>internalDate</th>\n      <th>importance_thread</th>\n    </tr>\n  </thead>\n  <tbody>\n    <tr>\n      <th>0</th>\n      <td>0</td>\n      <td>17275bc3cce6497f</td>\n      <td>172659e4e9356de7</td>\n      <td>['UNREAD', 'IMPORTANT', 'CATEGORY_FORUMS', 'IN...</td>\n      <td>Félicitations Clara :) Quel petit chou et quel...</td>\n      <td>{'partId': '', 'mimeType': 'multipart/related'...</td>\n      <td>8309988</td>\n      <td>215485</td>\n      <td>1591113147000</td>\n      <td>171.0</td>\n    </tr>\n    <tr>\n      <th>1</th>\n      <td>1</td>\n      <td>17275b282bd7e104</td>\n      <td>172659e4e9356de7</td>\n      <td>['UNREAD', 'IMPORTANT', 'CATEGORY_FORUMS', 'IN...</td>\n      <td>Félicitation, Bienvenue à Gaspard, il est tout...</td>\n      <td>{'partId': '', 'mimeType': 'multipart/alternat...</td>\n      <td>62110</td>\n      <td>215403</td>\n      <td>1591112492000</td>\n      <td>171.0</td>\n    </tr>\n    <tr>\n      <th>2</th>\n      <td>2</td>\n      <td>17275469b37bf18f</td>\n      <td>172750d9af65a610</td>\n      <td>['UNREAD', 'CATEGORY_FORUMS', 'INBOX']</td>\n      <td>Bonjour, @Marina Guerin : je pense que nous po...</td>\n      <td>{'partId': '', 'mimeType': 'multipart/related'...</td>\n      <td>72555</td>\n      <td>215282</td>\n      <td>1591105443000</td>\n      <td>100.0</td>\n    </tr>\n    <tr>\n      <th>3</th>\n      <td>3</td>\n      <td>17275421059326b5</td>\n      <td>172750d9af65a610</td>\n      <td>['UNREAD', 'CATEGORY_FORUMS', 'INBOX']</td>\n      <td>d&amp;#39;ailleurs tout ça me fait penser à une vi...</td>\n      <td>{'partId': '', 'mimeType': 'multipart/related'...</td>\n      <td>69817</td>\n      <td>215282</td>\n      <td>1591105131000</td>\n      <td>100.0</td>\n    </tr>\n    <tr>\n      <th>4</th>\n      <td>4</td>\n      <td>172753fcd88090be</td>\n      <td>172750d9af65a610</td>\n      <td>['UNREAD', 'CATEGORY_FORUMS', 'INBOX']</td>\n      <td>Merci pour les photos Cyril ! Cette année ça r...</td>\n      <td>{'partId': '', 'mimeType': 'multipart/related'...</td>\n      <td>69589</td>\n      <td>215282</td>\n      <td>1591104999000</td>\n      <td>100.0</td>\n    </tr>\n    <tr>\n      <th>...</th>\n      <td>...</td>\n      <td>...</td>\n      <td>...</td>\n      <td>...</td>\n      <td>...</td>\n      <td>...</td>\n      <td>...</td>\n      <td>...</td>\n      <td>...</td>\n      <td>...</td>\n    </tr>\n    <tr>\n      <th>95</th>\n      <td>95</td>\n      <td>1725bec1c28531e7</td>\n      <td>1725bec1c28531e7</td>\n      <td>['UNREAD', 'CATEGORY_FORUMS', 'INBOX']</td>\n      <td>Hello les octos, A l&amp;#39;occasion des 2 ans du...</td>\n      <td>{'partId': '', 'mimeType': 'multipart/alternat...</td>\n      <td>17972</td>\n      <td>204210</td>\n      <td>1590680085000</td>\n      <td>10.0</td>\n    </tr>\n    <tr>\n      <th>96</th>\n      <td>96</td>\n      <td>1725bb666c1502a2</td>\n      <td>172511f6e19ce721</td>\n      <td>['UNREAD', 'IMPORTANT', 'CATEGORY_FORUMS', 'IN...</td>\n      <td>Bisous bibiiii 😘 On Tue, May 26, 2020 at 3:15 ...</td>\n      <td>{'partId': '', 'mimeType': 'multipart/alternat...</td>\n      <td>26158</td>\n      <td>204110</td>\n      <td>1590676566000</td>\n      <td>330.0</td>\n    </tr>\n    <tr>\n      <th>97</th>\n      <td>97</td>\n      <td>1725bb33cf323512</td>\n      <td>172511f6e19ce721</td>\n      <td>['UNREAD', 'IMPORTANT', 'CATEGORY_FORUMS', 'IN...</td>\n      <td>Marie, ça a été un réel plaisir de travailler ...</td>\n      <td>{'partId': '', 'mimeType': 'multipart/related'...</td>\n      <td>158590</td>\n      <td>204018</td>\n      <td>1590676331000</td>\n      <td>330.0</td>\n    </tr>\n    <tr>\n      <th>98</th>\n      <td>98</td>\n      <td>1725b8eaa895820e</td>\n      <td>172511f6e19ce721</td>\n      <td>['UNREAD', 'IMPORTANT', 'CATEGORY_FORUMS', 'IN...</td>\n      <td>Merci pour tout Marie. Je te souhaite le meill...</td>\n      <td>{'partId': '', 'mimeType': 'multipart/alternat...</td>\n      <td>64791</td>\n      <td>203774</td>\n      <td>1590673961000</td>\n      <td>330.0</td>\n    </tr>\n    <tr>\n      <th>99</th>\n      <td>99</td>\n      <td>1725b8369edba40e</td>\n      <td>1725a7fa34db9bcc</td>\n      <td>['UNREAD', 'IMPORTANT', 'CATEGORY_FORUMS', 'IN...</td>\n      <td>Hello, Pour ajouter ma petite pierre à l&amp;#39;é...</td>\n      <td>{'partId': '', 'mimeType': 'multipart/related'...</td>\n      <td>547283</td>\n      <td>203775</td>\n      <td>1590673225000</td>\n      <td>100.0</td>\n    </tr>\n  </tbody>\n</table>\n<p>100 rows × 10 columns</p>\n</div>"
     },
     "metadata": {},
     "output_type": "execute_result",
     "execution_count": 143
    }
   ],
   "source": [
    "df.head(100)\n",
    "\n"
   ],
   "metadata": {
    "collapsed": false,
    "pycharm": {
     "name": "#%%\n",
     "is_executing": false
    }
   }
  },
  {
   "cell_type": "code",
   "execution_count": 162,
   "outputs": [
    {
     "name": "stdout",
     "text": [
      "Failed to create service an error occured \n"
     ],
     "output_type": "stream"
    }
   ],
   "source": [
    "client = GMailClient(path_to_credentials='/Users/remy.deme/PycharmProjects/readMail/credentials.json')\n",
    "client.init()# initialise the client"
   ],
   "metadata": {
    "collapsed": false,
    "pycharm": {
     "name": "#%%\n",
     "is_executing": false
    }
   }
  },
  {
   "cell_type": "code",
   "execution_count": null,
   "outputs": [],
   "source": [
    "message = client.GetMessage(userID='me',msgID='172a269baef28ffb')\n",
    "\n",
    "\n"
   ],
   "metadata": {
    "collapsed": false,
    "pycharm": {
     "name": "#%%\n"
    }
   }
  }
 ],
 "metadata": {
  "kernelspec": {
   "display_name": "Python 3",
   "language": "python",
   "name": "python3"
  },
  "language_info": {
   "codemirror_mode": {
    "name": "ipython",
    "version": 2
   },
   "file_extension": ".py",
   "mimetype": "text/x-python",
   "name": "python",
   "nbconvert_exporter": "python",
   "pygments_lexer": "ipython2",
   "version": "2.7.6"
  },
  "pycharm": {
   "stem_cell": {
    "cell_type": "raw",
    "source": [],
    "metadata": {
     "collapsed": false
    }
   }
  }
 },
 "nbformat": 4,
 "nbformat_minor": 0
}